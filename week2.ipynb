{
  "nbformat": 4,
  "nbformat_minor": 0,
  "metadata": {
    "colab": {
      "provenance": []
    },
    "kernelspec": {
      "name": "python3",
      "display_name": "Python 3"
    },
    "language_info": {
      "name": "python"
    }
  },
  "cells": [
    {
      "cell_type": "code",
      "execution_count": 4,
      "metadata": {
        "id": "6z02x9mRsGfe"
      },
      "outputs": [],
      "source": [
        "import nltk\n",
        "import tensorflow as tf\n",
        "from tensorflow import keras\n",
        "import pandas as pd\n",
        "from nltk.corpus import stopwords\n",
        "from textblob import Word\n",
        "from sklearn.preprocessing import LabelEncoder\n",
        "from collections import Counter\n",
        "import wordcloud\n",
        "from sklearn.metrics import classification_report,confusion_matrix,accuracy_score\n",
        "from keras.models import Sequential\n",
        "from keras.callbacks import EarlyStopping, ModelCheckpoint\n",
        "from keras.preprocessing.text import Tokenizer\n",
        "from keras_preprocessing.sequence import pad_sequences\n",
        "from keras.layers import Dense, Embedding, LSTM, SpatialDropout1D\n",
        "from sklearn.model_selection import train_test_split \n",
        "import matplotlib.pyplot as plt\n",
        "\n",
        "# word to vec\n",
        "import gensim\n",
        "from gensim.models import Word2Vec, KeyedVectors\n",
        "from gensim import models\n",
        "\n",
        "import numpy as np\n",
        "from math import exp\n",
        "from numpy import sign\n",
        "from ast import literal_eval\n",
        "import json"
      ]
    },
    {
      "cell_type": "code",
      "source": [
        "from google.colab import drive\n",
        "drive.mount('/content/gdrive')"
      ],
      "metadata": {
        "colab": {
          "base_uri": "https://localhost:8080/"
        },
        "id": "w7mWdtVpxjgE",
        "outputId": "77d19656-4c76-4cd6-83a8-2bf4a6e948f7"
      },
      "execution_count": 1,
      "outputs": [
        {
          "output_type": "stream",
          "name": "stdout",
          "text": [
            "Mounted at /content/gdrive\n"
          ]
        }
      ]
    },
    {
      "cell_type": "code",
      "source": [
        "# Importing preprocessed file from week 1\n",
        "df = pd.read_csv('/content/gdrive/MyDrive/week1_processed.csv',error_bad_lines=False, index_col = False)\n",
        "df.drop('Unnamed: 0', inplace=True, axis=1)\n",
        "df.head()"
      ],
      "metadata": {
        "colab": {
          "base_uri": "https://localhost:8080/",
          "height": 279
        },
        "id": "ITjEznwwxp4u",
        "outputId": "1c4090ad-cafa-4956-fb4e-b2c3b0a97845"
      },
      "execution_count": 7,
      "outputs": [
        {
          "output_type": "stream",
          "name": "stderr",
          "text": [
            "/usr/local/lib/python3.8/dist-packages/IPython/core/interactiveshell.py:3326: FutureWarning: The error_bad_lines argument has been deprecated and will be removed in a future version.\n",
            "\n",
            "\n",
            "  exec(code_obj, self.user_global_ns, self.user_ns)\n"
          ]
        },
        {
          "output_type": "execute_result",
          "data": {
            "text/plain": [
              "   Sentiment                                      SentimentText\n",
              "0          0                                    sad apl friend \n",
              "1          0                           missed new moon trailer \n",
              "2          1                                   omg already 730 \n",
              "3          0  omgaga im sooo im gunna cry ive dentist since ...\n",
              "4          0                           think mi bf cheating tt "
            ],
            "text/html": [
              "\n",
              "  <div id=\"df-24b498e2-3eb6-46b6-ba30-4d0bdffe036e\">\n",
              "    <div class=\"colab-df-container\">\n",
              "      <div>\n",
              "<style scoped>\n",
              "    .dataframe tbody tr th:only-of-type {\n",
              "        vertical-align: middle;\n",
              "    }\n",
              "\n",
              "    .dataframe tbody tr th {\n",
              "        vertical-align: top;\n",
              "    }\n",
              "\n",
              "    .dataframe thead th {\n",
              "        text-align: right;\n",
              "    }\n",
              "</style>\n",
              "<table border=\"1\" class=\"dataframe\">\n",
              "  <thead>\n",
              "    <tr style=\"text-align: right;\">\n",
              "      <th></th>\n",
              "      <th>Sentiment</th>\n",
              "      <th>SentimentText</th>\n",
              "    </tr>\n",
              "  </thead>\n",
              "  <tbody>\n",
              "    <tr>\n",
              "      <th>0</th>\n",
              "      <td>0</td>\n",
              "      <td>sad apl friend</td>\n",
              "    </tr>\n",
              "    <tr>\n",
              "      <th>1</th>\n",
              "      <td>0</td>\n",
              "      <td>missed new moon trailer</td>\n",
              "    </tr>\n",
              "    <tr>\n",
              "      <th>2</th>\n",
              "      <td>1</td>\n",
              "      <td>omg already 730</td>\n",
              "    </tr>\n",
              "    <tr>\n",
              "      <th>3</th>\n",
              "      <td>0</td>\n",
              "      <td>omgaga im sooo im gunna cry ive dentist since ...</td>\n",
              "    </tr>\n",
              "    <tr>\n",
              "      <th>4</th>\n",
              "      <td>0</td>\n",
              "      <td>think mi bf cheating tt</td>\n",
              "    </tr>\n",
              "  </tbody>\n",
              "</table>\n",
              "</div>\n",
              "      <button class=\"colab-df-convert\" onclick=\"convertToInteractive('df-24b498e2-3eb6-46b6-ba30-4d0bdffe036e')\"\n",
              "              title=\"Convert this dataframe to an interactive table.\"\n",
              "              style=\"display:none;\">\n",
              "        \n",
              "  <svg xmlns=\"http://www.w3.org/2000/svg\" height=\"24px\"viewBox=\"0 0 24 24\"\n",
              "       width=\"24px\">\n",
              "    <path d=\"M0 0h24v24H0V0z\" fill=\"none\"/>\n",
              "    <path d=\"M18.56 5.44l.94 2.06.94-2.06 2.06-.94-2.06-.94-.94-2.06-.94 2.06-2.06.94zm-11 1L8.5 8.5l.94-2.06 2.06-.94-2.06-.94L8.5 2.5l-.94 2.06-2.06.94zm10 10l.94 2.06.94-2.06 2.06-.94-2.06-.94-.94-2.06-.94 2.06-2.06.94z\"/><path d=\"M17.41 7.96l-1.37-1.37c-.4-.4-.92-.59-1.43-.59-.52 0-1.04.2-1.43.59L10.3 9.45l-7.72 7.72c-.78.78-.78 2.05 0 2.83L4 21.41c.39.39.9.59 1.41.59.51 0 1.02-.2 1.41-.59l7.78-7.78 2.81-2.81c.8-.78.8-2.07 0-2.86zM5.41 20L4 18.59l7.72-7.72 1.47 1.35L5.41 20z\"/>\n",
              "  </svg>\n",
              "      </button>\n",
              "      \n",
              "  <style>\n",
              "    .colab-df-container {\n",
              "      display:flex;\n",
              "      flex-wrap:wrap;\n",
              "      gap: 12px;\n",
              "    }\n",
              "\n",
              "    .colab-df-convert {\n",
              "      background-color: #E8F0FE;\n",
              "      border: none;\n",
              "      border-radius: 50%;\n",
              "      cursor: pointer;\n",
              "      display: none;\n",
              "      fill: #1967D2;\n",
              "      height: 32px;\n",
              "      padding: 0 0 0 0;\n",
              "      width: 32px;\n",
              "    }\n",
              "\n",
              "    .colab-df-convert:hover {\n",
              "      background-color: #E2EBFA;\n",
              "      box-shadow: 0px 1px 2px rgba(60, 64, 67, 0.3), 0px 1px 3px 1px rgba(60, 64, 67, 0.15);\n",
              "      fill: #174EA6;\n",
              "    }\n",
              "\n",
              "    [theme=dark] .colab-df-convert {\n",
              "      background-color: #3B4455;\n",
              "      fill: #D2E3FC;\n",
              "    }\n",
              "\n",
              "    [theme=dark] .colab-df-convert:hover {\n",
              "      background-color: #434B5C;\n",
              "      box-shadow: 0px 1px 3px 1px rgba(0, 0, 0, 0.15);\n",
              "      filter: drop-shadow(0px 1px 2px rgba(0, 0, 0, 0.3));\n",
              "      fill: #FFFFFF;\n",
              "    }\n",
              "  </style>\n",
              "\n",
              "      <script>\n",
              "        const buttonEl =\n",
              "          document.querySelector('#df-24b498e2-3eb6-46b6-ba30-4d0bdffe036e button.colab-df-convert');\n",
              "        buttonEl.style.display =\n",
              "          google.colab.kernel.accessAllowed ? 'block' : 'none';\n",
              "\n",
              "        async function convertToInteractive(key) {\n",
              "          const element = document.querySelector('#df-24b498e2-3eb6-46b6-ba30-4d0bdffe036e');\n",
              "          const dataTable =\n",
              "            await google.colab.kernel.invokeFunction('convertToInteractive',\n",
              "                                                     [key], {});\n",
              "          if (!dataTable) return;\n",
              "\n",
              "          const docLinkHtml = 'Like what you see? Visit the ' +\n",
              "            '<a target=\"_blank\" href=https://colab.research.google.com/notebooks/data_table.ipynb>data table notebook</a>'\n",
              "            + ' to learn more about interactive tables.';\n",
              "          element.innerHTML = '';\n",
              "          dataTable['output_type'] = 'display_data';\n",
              "          await google.colab.output.renderOutput(dataTable, element);\n",
              "          const docLink = document.createElement('div');\n",
              "          docLink.innerHTML = docLinkHtml;\n",
              "          element.appendChild(docLink);\n",
              "        }\n",
              "      </script>\n",
              "    </div>\n",
              "  </div>\n",
              "  "
            ]
          },
          "metadata": {},
          "execution_count": 7
        }
      ]
    },
    {
      "cell_type": "code",
      "source": [
        "#splitting tweet strings\n",
        "df = df[df['SentimentText'].notnull()]\n",
        "documents = [_text.split() for _text in df['SentimentText']]"
      ],
      "metadata": {
        "id": "bqwS8IK0fjDe"
      },
      "execution_count": 8,
      "outputs": []
    },
    {
      "cell_type": "code",
      "source": [
        "W2V_SIZE = 300\n",
        "W2V_WINDOW = 7\n",
        "W2V_EPOCH = 32\n",
        "W2V_MIN_COUNT = 10\n",
        "w2v_model = gensim.models.word2vec.Word2Vec(size=W2V_SIZE, \n",
        "                                            window=W2V_WINDOW, \n",
        "                                            min_count=W2V_MIN_COUNT, \n",
        "                                            workers=8)\n",
        "\n",
        "\n",
        "w2v_model.build_vocab(documents)"
      ],
      "metadata": {
        "id": "wkewUANGgq4e"
      },
      "execution_count": 6,
      "outputs": []
    },
    {
      "cell_type": "code",
      "source": [
        "w2v_model.train(documents, total_examples=len(documents), epochs=W2V_EPOCH)"
      ],
      "metadata": {
        "id": "Fn-Ef3-JgzU8",
        "outputId": "7e277712-ee06-4ef7-ecd1-eb4bdeab3bfe",
        "colab": {
          "base_uri": "https://localhost:8080/"
        }
      },
      "execution_count": 7,
      "outputs": [
        {
          "output_type": "execute_result",
          "data": {
            "text/plain": [
              "(332389875, 396565856)"
            ]
          },
          "metadata": {},
          "execution_count": 7
        }
      ]
    },
    {
      "cell_type": "code",
      "source": [
        "w2v_model.wv.save_word2vec_format('/content/gdrive/MyDrive/model.bin', binary=True)"
      ],
      "metadata": {
        "id": "EjkZaQElkl19"
      },
      "execution_count": 8,
      "outputs": []
    },
    {
      "cell_type": "code",
      "source": [
        "w2v_model = models.KeyedVectors.load_word2vec_format('/content/gdrive/MyDrive/model.bin', binary=True)"
      ],
      "metadata": {
        "id": "mpDNPWEoqCet"
      },
      "execution_count": 5,
      "outputs": []
    },
    {
      "cell_type": "code",
      "source": [
        "df['SentimentText'] = df['SentimentText'].apply(str)\n",
        "tokenizer = Tokenizer(num_words= 400, split=' ')\n",
        "tokenizer.fit_on_texts(df['SentimentText'].values)\n",
        "X = tokenizer.texts_to_sequences(df['SentimentText'].values)\n",
        "SEQUENCE_LENGTH = 300\n",
        "EPOCHS = 8\n",
        "BATCH_SIZE = 32\n",
        "X = pad_sequences(X , maxlen = SEQUENCE_LENGTH)\n",
        "vocab_size = len(tokenizer.word_index)+1"
      ],
      "metadata": {
        "id": "INMLu6EeyF5D"
      },
      "execution_count": 9,
      "outputs": []
    },
    {
      "cell_type": "code",
      "source": [
        "embedding_matrix = np.zeros((vocab_size , 300))\n",
        "for word , i in tokenizer.word_index.items():\n",
        "    if word in w2v_model.wv:\n",
        "        embedding_matrix[i] = w2v_model.wv[word]\n",
        "print(embedding_matrix.shape)"
      ],
      "metadata": {
        "id": "n0oClVO6hLyo",
        "outputId": "eaa79d7c-cc31-48f8-ae73-a135f9adac47",
        "colab": {
          "base_uri": "https://localhost:8080/"
        }
      },
      "execution_count": 11,
      "outputs": [
        {
          "output_type": "stream",
          "name": "stderr",
          "text": [
            "<ipython-input-11-487e8443de07>:3: DeprecationWarning: Call to deprecated `wv` (Attribute will be removed in 4.0.0, use self instead).\n",
            "  if word in w2v_model.wv:\n",
            "<ipython-input-11-487e8443de07>:4: DeprecationWarning: Call to deprecated `wv` (Attribute will be removed in 4.0.0, use self instead).\n",
            "  embedding_matrix[i] = w2v_model.wv[word]\n"
          ]
        },
        {
          "output_type": "stream",
          "name": "stdout",
          "text": [
            "(768648, 300)\n"
          ]
        }
      ]
    },
    {
      "cell_type": "code",
      "source": [
        "embedding_layer = Embedding( vocab_size , 300 , weights = [embedding_matrix] , input_length = SEQUENCE_LENGTH, trainable = False)\n",
        "model = Sequential()\n",
        "model.add(embedding_layer)\n",
        "model.add(SpatialDropout1D(0.4))\n",
        "model.add(LSTM(176, dropout=0.2, recurrent_dropout=0.2))\n",
        "model.add(Dense(2,activation='softmax'))\n",
        "model.compile(loss = 'categorical_crossentropy', optimizer='adam', metrics = ['accuracy'])\n",
        "print(model.summary())"
      ],
      "metadata": {
        "colab": {
          "base_uri": "https://localhost:8080/"
        },
        "id": "vPT6LcA8yZ2S",
        "outputId": "beaab2da-e460-4c34-bc34-da930d2fd30b"
      },
      "execution_count": 13,
      "outputs": [
        {
          "output_type": "stream",
          "name": "stdout",
          "text": [
            "Model: \"sequential\"\n",
            "_________________________________________________________________\n",
            " Layer (type)                Output Shape              Param #   \n",
            "=================================================================\n",
            " embedding (Embedding)       (None, 300, 300)          230594400 \n",
            "                                                                 \n",
            " spatial_dropout1d (SpatialD  (None, 300, 300)         0         \n",
            " ropout1D)                                                       \n",
            "                                                                 \n",
            " lstm (LSTM)                 (None, 176)               335808    \n",
            "                                                                 \n",
            " dense (Dense)               (None, 2)                 354       \n",
            "                                                                 \n",
            "=================================================================\n",
            "Total params: 230,930,562\n",
            "Trainable params: 336,162\n",
            "Non-trainable params: 230,594,400\n",
            "_________________________________________________________________\n",
            "None\n"
          ]
        }
      ]
    },
    {
      "cell_type": "code",
      "source": [
        "Y =pd.get_dummies(df['Sentiment']).values\n",
        "X_train, X_test, Y_train, Y_test = train_test_split(X,Y, random_state = 42, test_size = 0.2,train_size = 0.02)\n",
        "X_train, X_val, Y_train, Y_val = train_test_split(X_train, Y_train, test_size=0.2, random_state=42,train_size = 0.02)"
      ],
      "metadata": {
        "id": "heZJ39TIysOs"
      },
      "execution_count": 16,
      "outputs": []
    },
    {
      "cell_type": "code",
      "source": [
        "batch_size=32\n",
        "hist = model.fit(X_train, Y_train, epochs = 10, batch_size=batch_size, validation_data=(X_val, Y_val), verbose = 'auto')"
      ],
      "metadata": {
        "colab": {
          "base_uri": "https://localhost:8080/"
        },
        "id": "wx-_zj_lyvJc",
        "outputId": "560c5e04-af6b-4e0a-e91b-d6b9e73914e0"
      },
      "execution_count": 17,
      "outputs": [
        {
          "output_type": "stream",
          "name": "stdout",
          "text": [
            "Epoch 1/10\n",
            "20/20 [==============================] - 107s 6s/step - loss: 0.5514 - accuracy: 0.7290 - val_loss: 0.5607 - val_accuracy: 0.7128\n",
            "Epoch 2/10\n",
            "20/20 [==============================] - 105s 5s/step - loss: 0.5440 - accuracy: 0.7369 - val_loss: 0.5647 - val_accuracy: 0.7109\n",
            "Epoch 3/10\n",
            "20/20 [==============================] - 104s 5s/step - loss: 0.5042 - accuracy: 0.7353 - val_loss: 0.5675 - val_accuracy: 0.7082\n",
            "Epoch 4/10\n",
            "20/20 [==============================] - 107s 6s/step - loss: 0.5004 - accuracy: 0.7528 - val_loss: 0.5736 - val_accuracy: 0.7057\n",
            "Epoch 5/10\n",
            "20/20 [==============================] - 106s 5s/step - loss: 0.4690 - accuracy: 0.7845 - val_loss: 0.5873 - val_accuracy: 0.7008\n",
            "Epoch 6/10\n",
            "20/20 [==============================] - 112s 6s/step - loss: 0.4253 - accuracy: 0.7956 - val_loss: 0.5998 - val_accuracy: 0.6989\n",
            "Epoch 7/10\n",
            "20/20 [==============================] - 113s 6s/step - loss: 0.3982 - accuracy: 0.8288 - val_loss: 0.6292 - val_accuracy: 0.6911\n",
            "Epoch 8/10\n",
            "20/20 [==============================] - 115s 6s/step - loss: 0.3774 - accuracy: 0.8336 - val_loss: 0.6428 - val_accuracy: 0.6851\n",
            "Epoch 9/10\n",
            "20/20 [==============================] - 107s 6s/step - loss: 0.3326 - accuracy: 0.8732 - val_loss: 0.6767 - val_accuracy: 0.6843\n",
            "Epoch 10/10\n",
            "20/20 [==============================] - 108s 6s/step - loss: 0.3038 - accuracy: 0.8732 - val_loss: 0.7095 - val_accuracy: 0.6849\n"
          ]
        }
      ]
    },
    {
      "cell_type": "code",
      "source": [
        "loss_train = hist.history['loss']\n",
        "loss_val = hist.history['val_loss']\n",
        "epochs = range(1,11)\n",
        "plt.plot(epochs, loss_train, 'g', label='Training loss')\n",
        "plt.plot(epochs, loss_val, 'b', label='validation loss')\n",
        "plt.title('Training and Validation loss')\n",
        "plt.xlabel('Epochs')\n",
        "plt.ylabel('Loss')\n",
        "plt.legend()\n",
        "plt.show()"
      ],
      "metadata": {
        "colab": {
          "base_uri": "https://localhost:8080/",
          "height": 295
        },
        "id": "ZAaPQJPxwI_-",
        "outputId": "8b0c57ec-aa9c-4916-d6c3-d9b46800b73d"
      },
      "execution_count": 18,
      "outputs": [
        {
          "output_type": "display_data",
          "data": {
            "text/plain": [
              "<Figure size 432x288 with 1 Axes>"
            ],
            "image/png": "[encoded data removed]"
          },
          "metadata": {
            "needs_background": "light"
          }
        }
      ]
    },
    {
      "cell_type": "code",
      "source": [
        "acc_train = hist.history['accuracy']\n",
        "acc_val = hist.history['val_accuracy']\n",
        "epochs = range(1,11)\n",
        "plt.plot(epochs, acc_train, 'g', label='Training accuracy')\n",
        "plt.plot(epochs, acc_val, 'b', label='validation accuracy')\n",
        "plt.title('Training and Validation accuracy')\n",
        "plt.xlabel('Epochs')\n",
        "plt.ylabel('Accuracy')\n",
        "plt.legend()\n",
        "plt.show()"
      ],
      "metadata": {
        "colab": {
          "base_uri": "https://localhost:8080/",
          "height": 295
        },
        "id": "9u8TZYHowJO8",
        "outputId": "6b6e7e9f-2c04-45d3-bd94-62dd4126b092"
      },
      "execution_count": 19,
      "outputs": [
        {
          "output_type": "display_data",
          "data": {
            "text/plain": [
              "<Figure size 432x288 with 1 Axes>"
            ],
            "image/png": "[encoded data removed]"
          },
          "metadata": {
            "needs_background": "light"
          }
        }
      ]
    },
    {
      "cell_type": "code",
      "source": [
        "sco , accu = model.evaluate(X_test,Y_test)\n",
        "print(\"accuracy of LSTM model: %.2f\" % (accu*100),\"%\")"
      ],
      "metadata": {
        "colab": {
          "base_uri": "https://localhost:8080/"
        },
        "id": "iN5aD4Kn6ShE",
        "outputId": "04ce0b0c-ed95-44d0-b447-243abc6c2ab6"
      },
      "execution_count": 20,
      "outputs": [
        {
          "output_type": "stream",
          "name": "stdout",
          "text": [
            "9865/9865 [==============================] - 4251s 431ms/step - loss: 0.6942 - accuracy: 0.6892\n",
            "accuracy of LSTM model: 68.92 %\n"
          ]
        }
      ]
    },
    {
      "cell_type": "code",
      "source": [
        "\n",
        "model.save_weights('/content/gdrive/MyDrive/model_weights.h5')\n",
        "with open('/content/gdrive/MyDrive/model_architecture.json', 'w') as f:\n",
        "    f.write(model.to_json())\n",
        "    \n",
        "model.save('/content/gdrive/MyDrive/entire_model.h5')\n",
        "tokenizer_json = tokenizer.to_json()\n",
        "with open('/content/gdrive/MyDrive/tokenizer.json', 'w', encoding='utf-8') as f:\n",
        "    f.write(json.dumps(tokenizer_json, ensure_ascii=False))"
      ],
      "metadata": {
        "id": "-guJ-vMaAkyd"
      },
      "execution_count": 21,
      "outputs": []
    },
    {
      "cell_type": "code",
      "source": [
        "\n",
        "class LogReg:\n",
        "    \"\"\"\n",
        "    Class to represent a logistic regression model.\n",
        "    \"\"\"\n",
        "\n",
        "    def __init__(self, l_rate, epochs, n_features):\n",
        "        \"\"\"\n",
        "        Create a new model with certain parameters.\n",
        "\n",
        "        :param l_rate: Initial learning rate for model.\n",
        "        :param epoch: Number of epochs to train for.\n",
        "        :param n_features: Number of features.\n",
        "        \"\"\"\n",
        "        self.l_rate = l_rate\n",
        "        self.epochs = epochs\n",
        "        self.coef = [0.0] * n_features\n",
        "        self.bias = 0.0\n",
        "\n",
        "    def sigmoid(self, score, threshold=20.0):\n",
        "        \"\"\"\n",
        "        Prevent overflow of exp by capping activation at 20.\n",
        "\n",
        "        :param score: A real valued number to convert into a number between 0 and 1\n",
        "        \"\"\"\n",
        "        if abs(score) > threshold:\n",
        "            score = threshold * sign(score)\n",
        "        activation = exp(score)\n",
        "        return activation / (1.0 + activation)\n",
        "\n",
        "    def predict(self, features):\n",
        "        \"\"\"\n",
        "        Given an example's features and the coefficients, predicts the class.\n",
        "\n",
        "        :param features: List of real valued features for a single training example.\n",
        "\n",
        "        :return: Returns the predicted class (either 0 or 1).\n",
        "        \"\"\"\n",
        "        value = sum([features[i]*self.coef[i] for i in range(len(features))]) + self.bias\n",
        "        return self.sigmoid(value)\n",
        "\n",
        "    def sg_update(self, features, label):\n",
        "        \"\"\"\n",
        "        Computes the update to the weights based on a predicted example.\n",
        "\n",
        "        :param features: Features to train on.\n",
        "        :param label: Corresponding label for features.\n",
        "        \"\"\"\n",
        "        yhat = self.predict(features)\n",
        "        e = label - yhat\n",
        "        self.bias = self.bias + self.l_rate * e * yhat * (1-yhat)\n",
        "        for i in range(len(features)):\n",
        "            self.coef[i] = self.coef[i] + self.l_rate * e * yhat * (1-yhat) * features[i]\n",
        "        return\n",
        "\n",
        "    def train(self, X, y):\n",
        "        \"\"\"\n",
        "        Computes logistic regression coefficients using stochastic gradient descent.\n",
        "\n",
        "        :param X: Features to train on.\n",
        "        :param y: Corresponding label for each set of features.\n",
        "\n",
        "        :return: Returns a list of model weight coefficients where coef[0] is the bias.\n",
        "        \"\"\"\n",
        "        for epoch in range(self.epochs):\n",
        "            for features, label in zip(X, y):\n",
        "                self.sg_update(features, label)\n",
        "        return self.bias, self.coef\n",
        "\n",
        "def get_accuracy(y_bar, y_pred):\n",
        "    \"\"\"\n",
        "    Computes what percent of the total testing data the model classified correctly.\n",
        "\n",
        "    :param y_bar: List of ground truth classes for each example.\n",
        "    :param y_pred: List of model predicted class for each example.\n",
        "\n",
        "    :return: Returns a real number between 0 and 1 for the model accuracy.\n",
        "    \"\"\"\n",
        "    correct = 0\n",
        "    for i in range(len(y_bar)):\n",
        "        if y_bar[i] == y_pred[i]:\n",
        "            correct += 1\n",
        "    accuracy = (correct / len(y_bar)) * 100.0\n",
        "    return accuracy        "
      ],
      "metadata": {
        "id": "YdJEbS691fJ7"
      },
      "execution_count": 22,
      "outputs": []
    },
    {
      "cell_type": "code",
      "source": [
        "logreg = LogReg(0.1, 5, len(X_train[0]))\n",
        "bias_logreg, weights_logreg = logreg.train(X_train, Y_train[:,0])\n",
        "y_logistic = [round(logreg.predict(example)) for example in X_test]"
      ],
      "metadata": {
        "id": "O1c38Q2j2PAj"
      },
      "execution_count": 23,
      "outputs": []
    },
    {
      "cell_type": "code",
      "source": [
        "accuracy_logistic = get_accuracy(y_logistic, Y_test[:,0])\n",
        "print('Logistic Regression Accuracy: {:0.2f}'.format(accuracy_logistic))"
      ],
      "metadata": {
        "colab": {
          "base_uri": "https://localhost:8080/"
        },
        "id": "Sk8vBOY829f5",
        "outputId": "4a0908cf-6372-4ab0-aa55-dce7d1a6d2d9"
      },
      "execution_count": 24,
      "outputs": [
        {
          "output_type": "stream",
          "name": "stdout",
          "text": [
            "Logistic Regression Accuracy: 50.48\n"
          ]
        }
      ]
    }
  ]
}